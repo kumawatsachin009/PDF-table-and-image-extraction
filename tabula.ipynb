{
 "cells": [
  {
   "cell_type": "markdown",
   "metadata": {},
   "source": [
    "# Extract images"
   ]
  },
  {
   "cell_type": "code",
   "execution_count": null,
   "metadata": {},
   "outputs": [],
   "source": [
    "#define libraries\n",
    "import os"
   ]
  },
  {
   "cell_type": "code",
   "execution_count": null,
   "metadata": {},
   "outputs": [],
   "source": [
    "#define paths\n",
    "tool_url = \"C:\\\\Users\\\\kumaw\\\\Downloads\\\\xpdf-tools-win-4.02\\\\bin64\\\\\"\n",
    "pdf_url = \"D:\\\\dri\\\\\"\n",
    "target_url =\"D:\\\\target\\\\\""
   ]
  },
  {
   "cell_type": "code",
   "execution_count": null,
   "metadata": {},
   "outputs": [],
   "source": [
    "#refactor pdf names for tool to work\n",
    "os.chdir(pdf_url)\n",
    "pdf_name = []\n",
    "for file in os.listdir():\n",
    "    if file.endswith(\".pdf\"):\n",
    "        k = file\n",
    "        k = k.replace(\"(\",\"\")\n",
    "        k = k.replace(\")\",\"\")\n",
    "        k = k.replace(\"-\",\"\")\n",
    "        k = k.replace(\"_\", \"\")\n",
    "        k = k.replace(\" \",\"\")\n",
    "        k = k.strip()\n",
    "        k = k.lower() \n",
    "        if len(k)>20:\n",
    "            os.rename(file, k[:15] + \".pdf\")\n",
    "        else:\n",
    "            os.rename(file, k)\n",
    "        pdf_name.append(k[:len(k)-4])\n",
    "pdf_name"
   ]
  },
  {
   "cell_type": "code",
   "execution_count": null,
   "metadata": {},
   "outputs": [],
   "source": [
    "#refactor pdf names for tool to work\n",
    "os.chdir(pdf_url)\n",
    "pdf_name = []\n",
    "for file in os.listdir():\n",
    "    if file.endswith(\".pdf\"):\n",
    "        k = file\n",
    "        k = k.replace(\"(\",\"\")\n",
    "        k = k.replace(\")\",\"\")\n",
    "        k = k.replace(\"-\",\"\")\n",
    "        k = k.replace(\"_\", \"\")\n",
    "        k = k.replace(\" \",\"\")\n",
    "        k = k.strip()\n",
    "        k = k.lower() \n",
    "        if len(k)>20:\n",
    "            os.rename(file, k[:15] + \".pdf\")\n",
    "        else:\n",
    "            os.rename(file, k)\n",
    "        pdf_name.append(k[:len(k)-4])\n",
    "pdf_name"
   ]
  },
  {
   "cell_type": "code",
   "execution_count": null,
   "metadata": {},
   "outputs": [],
   "source": [
    "# make folders and extract images\n",
    "os.chdir(target_url)\n",
    "for name in pdf_name:\n",
    "    os.chdir(target_url)\n",
    "    try:\n",
    "        os.mkdir(name)\n",
    "    except:\n",
    "        pass\n",
    "    os.chdir(tool_url)\n",
    "    try:\n",
    "        !pdfimages.exe -j D:\\\\dri\\\\{name}.pdf D:\\\\target\\\\{name}\\\\ \n",
    "    except:\n",
    "        pass"
   ]
  },
  {
   "cell_type": "code",
   "execution_count": null,
   "metadata": {},
   "outputs": [],
   "source": [
    "#convert pbm images to jpg \n",
    "os.chdir(target_url)\n",
    "for file in os.listdir():\n",
    "    os.chdir(target_url)\n",
    "    os.chdir(file)\n",
    "    try:\n",
    "        !magick convert * image.jpg \n",
    "    except:\n",
    "        pass\n",
    "    try:\n",
    "        !del *.pbm\n",
    "        !del *.ppm\n",
    "    except:\n",
    "        pass"
   ]
  },
  {
   "cell_type": "markdown",
   "metadata": {},
   "source": [
    "# preprocessing pdf"
   ]
  },
  {
   "cell_type": "code",
   "execution_count": null,
   "metadata": {},
   "outputs": [],
   "source": [
    "import os\n",
    "from PyPDF2 import PdfFileReader, PdfFileWriter"
   ]
  },
  {
   "cell_type": "code",
   "execution_count": null,
   "metadata": {},
   "outputs": [],
   "source": [
    "# pdf_splitter.py references page\n",
    "def pdf_splitter(path):\n",
    "    pdf = PdfFileReader(path)\n",
    "    pdf_writer = PdfFileWriter()\n",
    "    for page in range(pdf.getNumPages()):\n",
    "        pdf_writer.addPage(pdf.getPage(page))\n",
    "        if (page == pdf.getNumPages()-2):\n",
    "            output_filename = path\n",
    "            with open(output_filename, 'wb') as out:\n",
    "                pdf_writer.write(out)\n",
    "            print('Created: {}'.format(output_filename))"
   ]
  },
  {
   "cell_type": "code",
   "execution_count": null,
   "metadata": {},
   "outputs": [],
   "source": [
    "os.chdir(pdf_url)\n",
    "for file in os.listdir():\n",
    "    pdf_splitter(file)\n",
    "# os.chdir(\"D:\\\\\")\n",
    "# pdf_splitter(\"2002fang.pdf\")"
   ]
  },
  {
   "cell_type": "markdown",
   "metadata": {},
   "source": [
    "## reading all pages"
   ]
  },
  {
   "cell_type": "code",
   "execution_count": null,
   "metadata": {},
   "outputs": [],
   "source": [
    "from tabula import read_pdf\n",
    "import pandas as pd\n",
    "from time import sleep"
   ]
  },
  {
   "cell_type": "code",
   "execution_count": null,
   "metadata": {},
   "outputs": [],
   "source": [
    "pd.__version__"
   ]
  },
  {
   "cell_type": "code",
   "execution_count": null,
   "metadata": {},
   "outputs": [],
   "source": [
    "def preprocessed(f, whi=\"all\", ax=1, row=None, col=None):\n",
    "    f.dropna(how=whi,thresh=1, axis = ax, inplace=True)\n",
    "    if row!=None:\n",
    "        f.drop(labels= row,thresh=1, inplace =True)\n",
    "    if col!=None:\n",
    "        f.drop(labels = col,thresh=1, inplace =True)\n",
    "    return f"
   ]
  },
  {
   "cell_type": "code",
   "execution_count": null,
   "metadata": {
    "scrolled": false
   },
   "outputs": [],
   "source": [
    "os.chdir(pdf_url)\n",
    "for pdf,name in zip(os.listdir(), pdf_name):\n",
    "    pdfread = PdfFileReader(pdf)\n",
    "    for page in range(pdfread.getNumPages()):\n",
    "        df = read_pdf(pdf, pages = page)\n",
    "        for i,f in enumerate(df):\n",
    "            print(f)\n",
    "            x = input(\"do you want to process table check nanas: Enter Y or y for yes\")\n",
    "            if (x=='y' or x == 'Y'):\n",
    "                f = preprocessed(f)\n",
    "            else:\n",
    "                pass\n",
    "            print(f)\n",
    "            x = input(\"do you want to output the processed pdf: Enter Y or y for yes\")\n",
    "            if (x=='y' or x == 'Y'):\n",
    "                f.to_csv(\"{target}\\\\{pdf1}\\\\{pdf2}_{page}_{inn}.csv\".format(target=target_url,pdf1= name,pdf2 = name, page = page, inn = i))\n",
    "            else:\n",
    "                pass"
   ]
  },
  {
   "cell_type": "code",
   "execution_count": null,
   "metadata": {},
   "outputs": [],
   "source": []
  }
 ],
 "metadata": {
  "kernelspec": {
   "display_name": "Python 3",
   "language": "python",
   "name": "python3"
  },
  "language_info": {
   "codemirror_mode": {
    "name": "ipython",
    "version": 3
   },
   "file_extension": ".py",
   "mimetype": "text/x-python",
   "name": "python",
   "nbconvert_exporter": "python",
   "pygments_lexer": "ipython3",
   "version": "3.7.4"
  }
 },
 "nbformat": 4,
 "nbformat_minor": 2
}
